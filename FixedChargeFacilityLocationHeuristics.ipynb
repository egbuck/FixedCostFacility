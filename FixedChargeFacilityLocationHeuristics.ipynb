{
 "cells": [
  {
   "cell_type": "code",
   "execution_count": 1,
   "metadata": {},
   "outputs": [],
   "source": [
    "import numpy as np     # faster calculations for numerical matrices"
   ]
  },
  {
   "cell_type": "code",
   "execution_count": 2,
   "metadata": {},
   "outputs": [],
   "source": [
    "def WeightAdd(dist, demands, locs):               # calculate matrix of wspd's given locating at locs and col j\n",
    "    W = np.zeros( (len(demands), len(demands)) )    # initialize W\n",
    "    for i in range(len(demands)):                   # for every row in W\n",
    "        for j in range(len(demands)):               # for every column in W (to calc W[i, j])\n",
    "            minDist = dist[i, j] * demands[i]       # weighted shortest path dist (wspd) from j to i     \n",
    "            for locIndex in locs:                   # are already built locations better to ship from to i?\n",
    "                distLoc = dist[i, locIndex] * demands[i]    # calculate wspd from loc to i\n",
    "                if distLoc < minDist:                       # if loc better to ship from than j\n",
    "                    minDist = distLoc                       # replace with better wspd\n",
    "            W[i, j] = minDist                               # set W[i, j] to smallest wspd\n",
    "    return(W)                                      # return nxn (n = num of nodes) matrix of wspd"
   ]
  },
  {
   "cell_type": "code",
   "execution_count": 3,
   "metadata": {},
   "outputs": [],
   "source": [
    "def Add(dist, demands, alpha, fixed, sub = False):    # fixed needs to be numpy array of fixed costs\n",
    "    go = True           # condition to keep iterating until adding doesn't reduce cost\n",
    "    locs = []           # python list of where locate facilities\n",
    "    cost = 99999999     # something very large to get over-written first iteration\n",
    "    origFixed = fixed   # since np array, changes to fixed do not change origFixed!\n",
    "    while go:\n",
    "        W = WeightAdd(dist, demands, locs)         # calculate W matrix\n",
    "        Tots = fixed + alpha * W.sum(axis = 0)     # get total costs (objective value) for adding each facility\n",
    "        minIndex = np.argmin(Tots)                 # get index of best objective value\n",
    "        if Tots[minIndex] < cost:                  # if improves objective\n",
    "            cost = Tots[minIndex]                  # update cost\n",
    "            locs.append(minIndex)                  # update locations\n",
    "            fixed = fixed + origFixed[minIndex]    # update array of fixed costs -> each entry is total fixed costs\n",
    "                                                   # of locating at current locs list and adding facility at index\n",
    "        else:\n",
    "            go = False                             # did not find better solution, terminate with current\n",
    "    if sub:   # if using Greedy Add with Substitution\n",
    "        locs, cost = Sub(locs, cost, minIndex, fixed, origFixed, dist, demands, alpha)   # Call Sub function\n",
    "    nodeNames = ['A', 'B', 'C', 'D', 'E', 'F', 'G', 'H', 'I', 'J', 'K', 'L']   # Define node names for locations\n",
    "    return({\"Locations\":sorted([nodeNames[i] for i in locs]), \"Cost\":cost})    # return locations and obj. value"
   ]
  },
  {
   "cell_type": "code",
   "execution_count": 4,
   "metadata": {},
   "outputs": [],
   "source": [
    "def Sub(locs, cost, minIndex, fixed, origFixed, dist, demands, alpha):\n",
    "    # try other locations and see if do better\n",
    "    nodeNames = ['A', 'B', 'C', 'D', 'E', 'F', 'G', 'H', 'I', 'J', 'K', 'L']\n",
    "    lastIndex = minIndex    # not sure if need\n",
    "    origLocs = locs[:]         # Create copy so that try to replace every original location\n",
    "    for chosenLoc in origLocs:        # try to replace every original location\n",
    "        newLocs = locs                       # create copy\n",
    "        newLocs.remove(chosenLoc)                 # remove one of locations\n",
    "        fixed = fixed - origFixed[chosenLoc]      # adjust fixed costs\n",
    "        W = WeightAdd(dist, demands, newLocs)     # recalculate W\n",
    "        Tots = fixed + alpha * W.sum(axis = 0)    # get obj values\n",
    "        minIndex = np.argmin(Tots)                # find minimum\n",
    "        cost = Tots[minIndex]                     # update cost\n",
    "        locs.append(minIndex)                     # update locations\n",
    "        fixed = fixed + origFixed[minIndex]       # update fixed costs\n",
    "    return(locs, cost)"
   ]
  },
  {
   "cell_type": "code",
   "execution_count": 5,
   "metadata": {},
   "outputs": [],
   "source": [
    "def WeightDrop(dist, demands, locs):\n",
    "    W = np.zeros( (len(demands), len(demands)) )      # initialize W\n",
    "    for i in range(len(demands)):                     # for every row in W\n",
    "        for j in range(len(demands)):                 # for every column in W (to calc W[i, j])\n",
    "            minDist = 9999999   # absurd so gets overwritten\n",
    "            for locIndex in locs:                     # check wspd for every current location\n",
    "                if locIndex != j:                     # but we are dropping column j from locations (if there)\n",
    "                    distLoc = dist[i, locIndex] * demands[i]    # calculate wspd from locIndex to i\n",
    "                    if distLoc < minDist:             # if lower wspd overwrite minDist\n",
    "                        minDist = distLoc\n",
    "            W[i, j] = minDist                         # set W[i, j] to smallest wspd\n",
    "    return(W)               # return nxn (n = num of nodes) matrix of wspd"
   ]
  },
  {
   "cell_type": "code",
   "execution_count": 6,
   "metadata": {},
   "outputs": [],
   "source": [
    "def Drop(dist, demands, alpha, fixed):    # Drop Heuristic\n",
    "    go = True                             # Keep dropping facilities while solution improves\n",
    "    locs = list(range(len(demands)))      # Start by locating at all facilities\n",
    "    cost = fixed.sum()                    # Cost = sum of all fixed costs\n",
    "    origFixed = fixed                     # since np array, changes to fixed do not change origFixed\n",
    "    \n",
    "    calcFixed = np.repeat([cost], len(fixed))         # these will be fixed costs for calculations\n",
    "    for j in range(len(fixed)):                       # for every location\n",
    "        calcFixed[j] = calcFixed[j] - origFixed[j]    # update calcFixed to not include cost of locating at j\n",
    "    \n",
    "    while go:                               \n",
    "        W = WeightDrop(dist, demands, locs)               # Calculate wspd matrix\n",
    "        Tots = calcFixed + alpha * W.sum(axis = 0)        # Calculate total cost of removing each facility\n",
    "        minIndex = np.argmin(Tots)                        # find best one\n",
    "        if Tots[minIndex] < cost:                # if better than previous solution\n",
    "            cost = Tots[minIndex]                # update cost   \n",
    "            locs.remove(minIndex)                # update locations\n",
    "            calcFixed = calcFixed - origFixed[minIndex]    # update fixed costs since removed facility\n",
    "            calcFixed[minIndex] = calcFixed[minIndex] + origFixed[minIndex]    # don't change for minIndex facility\n",
    "        else:\n",
    "            go = False\n",
    "    nodeNames = ['A', 'B', 'C', 'D', 'E', 'F', 'G', 'H', 'I', 'J', 'K', 'L']    # Names of nodes\n",
    "    return({\"Locations\":sorted([nodeNames[i] for i in locs]), \"Cost\":cost})     # return locations and obj value"
   ]
  },
  {
   "cell_type": "code",
   "execution_count": 7,
   "metadata": {},
   "outputs": [],
   "source": [
    "# initialize shortest path distance matrix\n",
    "spd = np.array([[ 0, 10, 16, 10, 12, 16],    # Row A\n",
    "                [10,  0,  6,  7, 16, 13],    # Row B\n",
    "                [16,  6,  0,  7, 16,  9],    # Row C\n",
    "                [10,  7,  7,  0,  9,  6],    # Row D\n",
    "                [12, 16, 16,  9,  0,  9],    # Row E\n",
    "                [16, 13,  9,  6,  9,  0]])   # Row F\n",
    "\n",
    "# demand vector\n",
    "dem = np.array([8, 10, 6, 5, 9, 10])\n",
    "\n",
    "# Fixed costs vector\n",
    "fc = np.array([40, 100, 50, 115, 70, 100])\n",
    "\n",
    "# alpha value\n",
    "a = 1"
   ]
  },
  {
   "cell_type": "code",
   "execution_count": 8,
   "metadata": {},
   "outputs": [
    {
     "data": {
      "text/plain": [
       "{'Locations': ['A', 'C', 'D', 'E'], 'Cost': 395.0}"
      ]
     },
     "execution_count": 8,
     "metadata": {},
     "output_type": "execute_result"
    }
   ],
   "source": [
    "Add(spd, dem, a, fc)"
   ]
  },
  {
   "cell_type": "code",
   "execution_count": 9,
   "metadata": {},
   "outputs": [
    {
     "data": {
      "text/plain": [
       "{'Locations': ['A', 'C', 'E'], 'Cost': 345.0}"
      ]
     },
     "execution_count": 9,
     "metadata": {},
     "output_type": "execute_result"
    }
   ],
   "source": [
    "Drop(spd, dem, a, fc)"
   ]
  },
  {
   "cell_type": "code",
   "execution_count": 10,
   "metadata": {},
   "outputs": [
    {
     "data": {
      "text/plain": [
       "{'Locations': ['A', 'C', 'E', 'F'], 'Cost': 350.0}"
      ]
     },
     "execution_count": 10,
     "metadata": {},
     "output_type": "execute_result"
    }
   ],
   "source": [
    "Add(spd, dem, a, fc, sub = True)  # Should have same num of nodes as original Add"
   ]
  },
  {
   "cell_type": "code",
   "execution_count": 11,
   "metadata": {},
   "outputs": [],
   "source": [
    "# initialize shortest path distance matrix\n",
    "                 #A  #B  #C  #D  #E  #F  #G  #H  #I  #J  #K  #L\n",
    "spd = np.array([[ 0, 15, 37, 55, 24, 60, 18, 33, 48, 40, 58, 67],    # Row A\n",
    "                [15,  0, 22, 40, 38, 52, 33, 48, 42, 55, 61, 61],    # Row B\n",
    "                [37, 22,  0, 18, 16, 30, 41, 28, 20, 65, 39, 39],    # Row C\n",
    "                [55, 40, 18,  0, 34, 12, 59, 46, 24, 62, 43, 34],    # Row D\n",
    "                [24, 38, 16, 34,  0, 36, 25, 12, 24, 47, 37, 43],    # Row E\n",
    "                [60, 52, 30, 12, 36,  0, 57, 42, 12, 50, 31, 22],    # Row F\n",
    "                [18, 33, 41, 59, 25, 57,  0, 15, 45, 22, 40, 61],    # Row G\n",
    "                [33, 48, 28, 46, 12, 42, 15,  0, 30, 37, 25, 46],    # Row H\n",
    "                [48, 42, 20, 24, 24, 12, 45, 30,  0, 38, 19, 19],    # Row I\n",
    "                [40, 55, 65, 62, 47, 50, 22, 37, 38,  0, 19, 40],    # Row J\n",
    "                [58, 61, 39, 43, 37, 31, 40, 25, 19, 19,  0, 21],    # Row K\n",
    "                [67, 61, 39, 34, 43, 22, 61, 46, 19, 40, 21,  0]])   # Row L  \n",
    "\n",
    "# demand vector\n",
    "                #A  #B  #C  #D  #E  #F  #G  #H  #I  #J  #K  #L\n",
    "dem = np.array([15, 10, 12, 18,  5, 24, 11, 16, 13, 22, 19, 20])\n",
    "\n",
    "# Fixed costs vector\n",
    "                #A   #B   #C   #D   #E   #F   #G   #H   #I   #J   #K   #L\n",
    "fc = np.array([100, 200, 130, 150, 225, 175, 190, 210, 165, 230, 125, 215])\n",
    "\n",
    "# alpha value\n",
    "a = 0.35"
   ]
  },
  {
   "cell_type": "code",
   "execution_count": 12,
   "metadata": {},
   "outputs": [
    {
     "data": {
      "text/plain": [
       "{'Locations': ['A', 'D', 'G', 'I', 'K'], 'Cost': 1364.1999999999998}"
      ]
     },
     "execution_count": 12,
     "metadata": {},
     "output_type": "execute_result"
    }
   ],
   "source": [
    "Add(spd, dem, a, fc)"
   ]
  },
  {
   "cell_type": "code",
   "execution_count": 13,
   "metadata": {},
   "outputs": [
    {
     "data": {
      "text/plain": [
       "{'Locations': ['A', 'C', 'F', 'K'], 'Cost': 1243.3}"
      ]
     },
     "execution_count": 13,
     "metadata": {},
     "output_type": "execute_result"
    }
   ],
   "source": [
    "Drop(spd, dem, a, fc)"
   ]
  },
  {
   "cell_type": "code",
   "execution_count": 14,
   "metadata": {},
   "outputs": [
    {
     "data": {
      "text/plain": [
       "{'Locations': ['A', 'C', 'F', 'H', 'K'], 'Cost': 1294.75}"
      ]
     },
     "execution_count": 14,
     "metadata": {},
     "output_type": "execute_result"
    }
   ],
   "source": [
    "Add(spd, dem, a, fc, sub = True)"
   ]
  },
  {
   "cell_type": "code",
   "execution_count": null,
   "metadata": {},
   "outputs": [],
   "source": []
  }
 ],
 "metadata": {
  "kernelspec": {
   "display_name": "Python 3",
   "language": "python",
   "name": "python3"
  },
  "language_info": {
   "codemirror_mode": {
    "name": "ipython",
    "version": 3
   },
   "file_extension": ".py",
   "mimetype": "text/x-python",
   "name": "python",
   "nbconvert_exporter": "python",
   "pygments_lexer": "ipython3",
   "version": "3.6.8"
  }
 },
 "nbformat": 4,
 "nbformat_minor": 2
}
